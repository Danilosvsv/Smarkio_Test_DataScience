{
 "cells": [
  {
   "cell_type": "markdown",
   "metadata": {},
   "source": [
    "# Carregamento dos dados\n",
    "\n",
    "Nessa etapa, carrega-se o banco de dados do arquivo \"teste_smarkio.xls\"."
   ]
  },
  {
   "cell_type": "code",
   "execution_count": 1,
   "metadata": {},
   "outputs": [],
   "source": [
    "import pandas as pd # Importa-se a biblioteca de manipulação e análise dados.\n",
    "\n",
    "# Carrega-se os respectivos bancos de dados através do comando 'pd.read' e o diretório do arquivo '.xls'.\n",
    "\n",
    "dados_Analise_ML = pd.read_excel(\"C:/Dataset_Desafio/teste_smarkio_lbs.xls\", 'Análise_ML')\n",
    "#dados_NLP # Printa-se a tabela com o conjunto de dados da guia 'NLP'."
   ]
  },
  {
   "cell_type": "code",
   "execution_count": 2,
   "metadata": {},
   "outputs": [
    {
     "data": {
      "text/html": [
       "<div>\n",
       "<style scoped>\n",
       "    .dataframe tbody tr th:only-of-type {\n",
       "        vertical-align: middle;\n",
       "    }\n",
       "\n",
       "    .dataframe tbody tr th {\n",
       "        vertical-align: top;\n",
       "    }\n",
       "\n",
       "    .dataframe thead th {\n",
       "        text-align: right;\n",
       "    }\n",
       "</style>\n",
       "<table border=\"1\" class=\"dataframe\">\n",
       "  <thead>\n",
       "    <tr style=\"text-align: right;\">\n",
       "      <th></th>\n",
       "      <th>Pred_class</th>\n",
       "      <th>probabilidade</th>\n",
       "      <th>status</th>\n",
       "      <th>True_class</th>\n",
       "    </tr>\n",
       "  </thead>\n",
       "  <tbody>\n",
       "    <tr>\n",
       "      <th>0</th>\n",
       "      <td>2</td>\n",
       "      <td>0.079892</td>\n",
       "      <td>approved</td>\n",
       "      <td>0.0</td>\n",
       "    </tr>\n",
       "    <tr>\n",
       "      <th>1</th>\n",
       "      <td>2</td>\n",
       "      <td>0.379377</td>\n",
       "      <td>approved</td>\n",
       "      <td>74.0</td>\n",
       "    </tr>\n",
       "    <tr>\n",
       "      <th>2</th>\n",
       "      <td>2</td>\n",
       "      <td>0.379377</td>\n",
       "      <td>approved</td>\n",
       "      <td>74.0</td>\n",
       "    </tr>\n",
       "    <tr>\n",
       "      <th>3</th>\n",
       "      <td>2</td>\n",
       "      <td>0.420930</td>\n",
       "      <td>approved</td>\n",
       "      <td>74.0</td>\n",
       "    </tr>\n",
       "    <tr>\n",
       "      <th>4</th>\n",
       "      <td>2</td>\n",
       "      <td>0.607437</td>\n",
       "      <td>approved</td>\n",
       "      <td>NaN</td>\n",
       "    </tr>\n",
       "    <tr>\n",
       "      <th>...</th>\n",
       "      <td>...</td>\n",
       "      <td>...</td>\n",
       "      <td>...</td>\n",
       "      <td>...</td>\n",
       "    </tr>\n",
       "    <tr>\n",
       "      <th>638</th>\n",
       "      <td>60</td>\n",
       "      <td>0.543772</td>\n",
       "      <td>revision</td>\n",
       "      <td>NaN</td>\n",
       "    </tr>\n",
       "    <tr>\n",
       "      <th>639</th>\n",
       "      <td>60</td>\n",
       "      <td>0.553846</td>\n",
       "      <td>revision</td>\n",
       "      <td>NaN</td>\n",
       "    </tr>\n",
       "    <tr>\n",
       "      <th>640</th>\n",
       "      <td>77</td>\n",
       "      <td>0.606065</td>\n",
       "      <td>revision</td>\n",
       "      <td>NaN</td>\n",
       "    </tr>\n",
       "    <tr>\n",
       "      <th>641</th>\n",
       "      <td>84</td>\n",
       "      <td>0.561842</td>\n",
       "      <td>revision</td>\n",
       "      <td>NaN</td>\n",
       "    </tr>\n",
       "    <tr>\n",
       "      <th>642</th>\n",
       "      <td>96</td>\n",
       "      <td>0.340740</td>\n",
       "      <td>revision</td>\n",
       "      <td>NaN</td>\n",
       "    </tr>\n",
       "  </tbody>\n",
       "</table>\n",
       "<p>643 rows × 4 columns</p>\n",
       "</div>"
      ],
      "text/plain": [
       "     Pred_class  probabilidade    status  True_class\n",
       "0             2       0.079892  approved         0.0\n",
       "1             2       0.379377  approved        74.0\n",
       "2             2       0.379377  approved        74.0\n",
       "3             2       0.420930  approved        74.0\n",
       "4             2       0.607437  approved         NaN\n",
       "..          ...            ...       ...         ...\n",
       "638          60       0.543772  revision         NaN\n",
       "639          60       0.553846  revision         NaN\n",
       "640          77       0.606065  revision         NaN\n",
       "641          84       0.561842  revision         NaN\n",
       "642          96       0.340740  revision         NaN\n",
       "\n",
       "[643 rows x 4 columns]"
      ]
     },
     "execution_count": 2,
     "metadata": {},
     "output_type": "execute_result"
    }
   ],
   "source": [
    "dados_Analise_ML # Printa-se a tabela com o conjunto de dados da guia 'Análise_ML'."
   ]
  },
  {
   "cell_type": "markdown",
   "metadata": {},
   "source": [
    "#### Pré-processamento da coluna 'status'"
   ]
  },
  {
   "cell_type": "code",
   "execution_count": 3,
   "metadata": {},
   "outputs": [
    {
     "data": {
      "text/html": [
       "<div>\n",
       "<style scoped>\n",
       "    .dataframe tbody tr th:only-of-type {\n",
       "        vertical-align: middle;\n",
       "    }\n",
       "\n",
       "    .dataframe tbody tr th {\n",
       "        vertical-align: top;\n",
       "    }\n",
       "\n",
       "    .dataframe thead th {\n",
       "        text-align: right;\n",
       "    }\n",
       "</style>\n",
       "<table border=\"1\" class=\"dataframe\">\n",
       "  <thead>\n",
       "    <tr style=\"text-align: right;\">\n",
       "      <th></th>\n",
       "      <th>Pred_class</th>\n",
       "      <th>probabilidade</th>\n",
       "      <th>status</th>\n",
       "      <th>True_class</th>\n",
       "    </tr>\n",
       "  </thead>\n",
       "  <tbody>\n",
       "    <tr>\n",
       "      <th>0</th>\n",
       "      <td>2</td>\n",
       "      <td>0.079892</td>\n",
       "      <td>1</td>\n",
       "      <td>0.0</td>\n",
       "    </tr>\n",
       "    <tr>\n",
       "      <th>1</th>\n",
       "      <td>2</td>\n",
       "      <td>0.379377</td>\n",
       "      <td>1</td>\n",
       "      <td>74.0</td>\n",
       "    </tr>\n",
       "    <tr>\n",
       "      <th>2</th>\n",
       "      <td>2</td>\n",
       "      <td>0.379377</td>\n",
       "      <td>1</td>\n",
       "      <td>74.0</td>\n",
       "    </tr>\n",
       "    <tr>\n",
       "      <th>3</th>\n",
       "      <td>2</td>\n",
       "      <td>0.420930</td>\n",
       "      <td>1</td>\n",
       "      <td>74.0</td>\n",
       "    </tr>\n",
       "    <tr>\n",
       "      <th>4</th>\n",
       "      <td>2</td>\n",
       "      <td>0.607437</td>\n",
       "      <td>1</td>\n",
       "      <td>NaN</td>\n",
       "    </tr>\n",
       "    <tr>\n",
       "      <th>...</th>\n",
       "      <td>...</td>\n",
       "      <td>...</td>\n",
       "      <td>...</td>\n",
       "      <td>...</td>\n",
       "    </tr>\n",
       "    <tr>\n",
       "      <th>638</th>\n",
       "      <td>60</td>\n",
       "      <td>0.543772</td>\n",
       "      <td>0</td>\n",
       "      <td>NaN</td>\n",
       "    </tr>\n",
       "    <tr>\n",
       "      <th>639</th>\n",
       "      <td>60</td>\n",
       "      <td>0.553846</td>\n",
       "      <td>0</td>\n",
       "      <td>NaN</td>\n",
       "    </tr>\n",
       "    <tr>\n",
       "      <th>640</th>\n",
       "      <td>77</td>\n",
       "      <td>0.606065</td>\n",
       "      <td>0</td>\n",
       "      <td>NaN</td>\n",
       "    </tr>\n",
       "    <tr>\n",
       "      <th>641</th>\n",
       "      <td>84</td>\n",
       "      <td>0.561842</td>\n",
       "      <td>0</td>\n",
       "      <td>NaN</td>\n",
       "    </tr>\n",
       "    <tr>\n",
       "      <th>642</th>\n",
       "      <td>96</td>\n",
       "      <td>0.340740</td>\n",
       "      <td>0</td>\n",
       "      <td>NaN</td>\n",
       "    </tr>\n",
       "  </tbody>\n",
       "</table>\n",
       "<p>643 rows × 4 columns</p>\n",
       "</div>"
      ],
      "text/plain": [
       "     Pred_class  probabilidade  status  True_class\n",
       "0             2       0.079892       1         0.0\n",
       "1             2       0.379377       1        74.0\n",
       "2             2       0.379377       1        74.0\n",
       "3             2       0.420930       1        74.0\n",
       "4             2       0.607437       1         NaN\n",
       "..          ...            ...     ...         ...\n",
       "638          60       0.543772       0         NaN\n",
       "639          60       0.553846       0         NaN\n",
       "640          77       0.606065       0         NaN\n",
       "641          84       0.561842       0         NaN\n",
       "642          96       0.340740       0         NaN\n",
       "\n",
       "[643 rows x 4 columns]"
      ]
     },
     "execution_count": 3,
     "metadata": {},
     "output_type": "execute_result"
    }
   ],
   "source": [
    "dados_Analise_ML = dados_Analise_ML.apply(lambda x: x.replace('approved', 1))\n",
    "dados_Analise_ML = dados_Analise_ML.apply(lambda x: x.replace('revision', 0))\n",
    "dados_Analise_ML "
   ]
  },
  {
   "cell_type": "markdown",
   "metadata": {},
   "source": [
    "#### Converte-se a coluna status de object para inteiro. Apesar de não surtir efeito agora, essa alteração será importante para que não ocorra erros durante a construção do classificador, dentre outros possíveis testes."
   ]
  },
  {
   "cell_type": "code",
   "execution_count": 4,
   "metadata": {},
   "outputs": [
    {
     "data": {
      "text/plain": [
       "0      1\n",
       "1      1\n",
       "2      1\n",
       "3      1\n",
       "4      1\n",
       "      ..\n",
       "638    0\n",
       "639    0\n",
       "640    0\n",
       "641    0\n",
       "642    0\n",
       "Name: status, Length: 643, dtype: int32"
      ]
     },
     "execution_count": 4,
     "metadata": {},
     "output_type": "execute_result"
    }
   ],
   "source": [
    "# Converte-se a coluna status de object para inteiro. Apesar de não surtir efeito agora, essa alteração será importante\n",
    "# para que não ocorra erros durante a \n",
    "dados_Analise_ML['status'].astype(str).astype(int) "
   ]
  },
  {
   "cell_type": "markdown",
   "metadata": {},
   "source": [
    "#### Balanceamento dos dados da coluna 'True_class' é realizado conforme a descrição do teste técnico, ou seja, se o valor em análise for nulo, então assume-se o valor respectivo da coluna 'Pred_class'."
   ]
  },
  {
   "cell_type": "code",
   "execution_count": 5,
   "metadata": {},
   "outputs": [
    {
     "name": "stdout",
     "output_type": "stream",
     "text": [
      "     Pred_class  probabilidade  status  True_class\n",
      "0             2       0.079892       1         0.0\n",
      "1             2       0.379377       1        74.0\n",
      "2             2       0.379377       1        74.0\n",
      "3             2       0.420930       1        74.0\n",
      "4             2       0.607437       1         2.0\n",
      "..          ...            ...     ...         ...\n",
      "638          60       0.543772       0        60.0\n",
      "639          60       0.553846       0        60.0\n",
      "640          77       0.606065       0        77.0\n",
      "641          84       0.561842       0        84.0\n",
      "642          96       0.340740       0        96.0\n",
      "\n",
      "[643 rows x 4 columns]\n"
     ]
    },
    {
     "name": "stderr",
     "output_type": "stream",
     "text": [
      "<ipython-input-5-7cdf73200ca7>:5: SettingWithCopyWarning: \n",
      "A value is trying to be set on a copy of a slice from a DataFrame\n",
      "\n",
      "See the caveats in the documentation: https://pandas.pydata.org/pandas-docs/stable/user_guide/indexing.html#returning-a-view-versus-a-copy\n",
      "  dados_Analise_ML.True_class[i] = dados_Analise_ML.Pred_class[i]\n"
     ]
    }
   ],
   "source": [
    "import math\n",
    "\n",
    "for i in range (len(dados_Analise_ML)):\n",
    "    if(math.isnan(dados_Analise_ML.True_class[i]) == 1):\n",
    "        dados_Analise_ML.True_class[i] = dados_Analise_ML.Pred_class[i]\n",
    "    i+=1\n",
    "print(dados_Analise_ML)"
   ]
  },
  {
   "cell_type": "markdown",
   "metadata": {},
   "source": [
    "## Atividade 1: Análise exploratória dos dados utilizando estatística descritiva e inferencial, considerando uma, duas e/ou mais variáveis.\n"
   ]
  },
  {
   "cell_type": "markdown",
   "metadata": {},
   "source": [
    "Através do comando '.info' observa-se que a coluna 'True_Class' não está balanceada em relação as demais, entretanto, conforme a descrição do teste, para os valores nulos da coluna 'True_Class' considera-se os seus respectivos valores contido na coluna 'Pred_class'. "
   ]
  },
  {
   "cell_type": "markdown",
   "metadata": {},
   "source": [
    "#### Sumário do dataset"
   ]
  },
  {
   "cell_type": "code",
   "execution_count": 6,
   "metadata": {},
   "outputs": [
    {
     "name": "stdout",
     "output_type": "stream",
     "text": [
      "<class 'pandas.core.frame.DataFrame'>\n",
      "RangeIndex: 643 entries, 0 to 642\n",
      "Data columns (total 4 columns):\n",
      " #   Column         Non-Null Count  Dtype  \n",
      "---  ------         --------------  -----  \n",
      " 0   Pred_class     643 non-null    int64  \n",
      " 1   probabilidade  643 non-null    float64\n",
      " 2   status         643 non-null    int64  \n",
      " 3   True_class     643 non-null    float64\n",
      "dtypes: float64(2), int64(2)\n",
      "memory usage: 20.2 KB\n"
     ]
    }
   ],
   "source": [
    "dados_Analise_ML.info()"
   ]
  },
  {
   "cell_type": "markdown",
   "metadata": {},
   "source": [
    "#### Descrição do dataset"
   ]
  },
  {
   "cell_type": "code",
   "execution_count": 7,
   "metadata": {},
   "outputs": [
    {
     "data": {
      "text/html": [
       "<div>\n",
       "<style scoped>\n",
       "    .dataframe tbody tr th:only-of-type {\n",
       "        vertical-align: middle;\n",
       "    }\n",
       "\n",
       "    .dataframe tbody tr th {\n",
       "        vertical-align: top;\n",
       "    }\n",
       "\n",
       "    .dataframe thead th {\n",
       "        text-align: right;\n",
       "    }\n",
       "</style>\n",
       "<table border=\"1\" class=\"dataframe\">\n",
       "  <thead>\n",
       "    <tr style=\"text-align: right;\">\n",
       "      <th></th>\n",
       "      <th>Pred_class</th>\n",
       "      <th>probabilidade</th>\n",
       "      <th>status</th>\n",
       "      <th>True_class</th>\n",
       "    </tr>\n",
       "  </thead>\n",
       "  <tbody>\n",
       "    <tr>\n",
       "      <th>count</th>\n",
       "      <td>643.000000</td>\n",
       "      <td>643.000000</td>\n",
       "      <td>643.000000</td>\n",
       "      <td>643.000000</td>\n",
       "    </tr>\n",
       "    <tr>\n",
       "      <th>mean</th>\n",
       "      <td>52.712286</td>\n",
       "      <td>0.622436</td>\n",
       "      <td>0.933126</td>\n",
       "      <td>48.251944</td>\n",
       "    </tr>\n",
       "    <tr>\n",
       "      <th>std</th>\n",
       "      <td>37.602068</td>\n",
       "      <td>0.266811</td>\n",
       "      <td>0.249998</td>\n",
       "      <td>38.542269</td>\n",
       "    </tr>\n",
       "    <tr>\n",
       "      <th>min</th>\n",
       "      <td>2.000000</td>\n",
       "      <td>0.043858</td>\n",
       "      <td>0.000000</td>\n",
       "      <td>0.000000</td>\n",
       "    </tr>\n",
       "    <tr>\n",
       "      <th>25%</th>\n",
       "      <td>12.000000</td>\n",
       "      <td>0.408017</td>\n",
       "      <td>1.000000</td>\n",
       "      <td>3.000000</td>\n",
       "    </tr>\n",
       "    <tr>\n",
       "      <th>50%</th>\n",
       "      <td>59.000000</td>\n",
       "      <td>0.616809</td>\n",
       "      <td>1.000000</td>\n",
       "      <td>55.000000</td>\n",
       "    </tr>\n",
       "    <tr>\n",
       "      <th>75%</th>\n",
       "      <td>81.000000</td>\n",
       "      <td>0.870083</td>\n",
       "      <td>1.000000</td>\n",
       "      <td>77.000000</td>\n",
       "    </tr>\n",
       "    <tr>\n",
       "      <th>max</th>\n",
       "      <td>118.000000</td>\n",
       "      <td>1.000000</td>\n",
       "      <td>1.000000</td>\n",
       "      <td>118.000000</td>\n",
       "    </tr>\n",
       "  </tbody>\n",
       "</table>\n",
       "</div>"
      ],
      "text/plain": [
       "       Pred_class  probabilidade      status  True_class\n",
       "count  643.000000     643.000000  643.000000  643.000000\n",
       "mean    52.712286       0.622436    0.933126   48.251944\n",
       "std     37.602068       0.266811    0.249998   38.542269\n",
       "min      2.000000       0.043858    0.000000    0.000000\n",
       "25%     12.000000       0.408017    1.000000    3.000000\n",
       "50%     59.000000       0.616809    1.000000   55.000000\n",
       "75%     81.000000       0.870083    1.000000   77.000000\n",
       "max    118.000000       1.000000    1.000000  118.000000"
      ]
     },
     "execution_count": 7,
     "metadata": {},
     "output_type": "execute_result"
    }
   ],
   "source": [
    "dados_Analise_ML.describe() # Imprime mais informações sobre o dataset como minimo, máximo, tamanho, média."
   ]
  },
  {
   "cell_type": "markdown",
   "metadata": {},
   "source": [
    "#### Qual a porcentagem de status 'approved' no conjunto de dados?"
   ]
  },
  {
   "cell_type": "code",
   "execution_count": 8,
   "metadata": {},
   "outputs": [
    {
     "data": {
      "text/plain": [
       "status\n",
       "0     43\n",
       "1    600\n",
       "Name: status, dtype: int64"
      ]
     },
     "execution_count": 8,
     "metadata": {},
     "output_type": "execute_result"
    }
   ],
   "source": [
    "dados_Analise_ML.groupby(['status']).status.count()"
   ]
  },
  {
   "cell_type": "markdown",
   "metadata": {},
   "source": [
    "Ou seja, $93.3\\%$ dos status das classes é dito 'approved'."
   ]
  },
  {
   "cell_type": "markdown",
   "metadata": {},
   "source": [
    "####  De forma geral, qual o status das classes preditivas do conjunto de dados?"
   ]
  },
  {
   "cell_type": "code",
   "execution_count": 9,
   "metadata": {},
   "outputs": [
    {
     "data": {
      "text/plain": [
       "<matplotlib.axes._subplots.AxesSubplot at 0x1df512464c0>"
      ]
     },
     "execution_count": 9,
     "metadata": {},
     "output_type": "execute_result"
    },
    {
     "data": {
      "image/png": "[encoded data removed]",
      "text/plain": [
       "<Figure size 432x288 with 1 Axes>"
      ]
     },
     "metadata": {
      "needs_background": "light"
     },
     "output_type": "display_data"
    }
   ],
   "source": [
    "dados_Analise_ML.groupby(['status']).status.count().sort_values().plot(kind='bar')\n",
    "# Plota-se o gráfico de barra do atributo status do dataset."
   ]
  },
  {
   "cell_type": "markdown",
   "metadata": {},
   "source": [
    "#### Quais as maiores classes preditivas do nosso conjunto de dados?"
   ]
  },
  {
   "cell_type": "code",
   "execution_count": 10,
   "metadata": {},
   "outputs": [
    {
     "data": {
      "text/plain": [
       "<matplotlib.axes._subplots.AxesSubplot at 0x1df5136d310>"
      ]
     },
     "execution_count": 10,
     "metadata": {},
     "output_type": "execute_result"
    },
    {
     "data": {
      "image/png": "[encoded data removed]",
      "text/plain": [
       "<Figure size 1296x720 with 1 Axes>"
      ]
     },
     "metadata": {
      "needs_background": "light"
     },
     "output_type": "display_data"
    }
   ],
   "source": [
    "import matplotlib.pyplot as plt\n",
    "\n",
    "plt.subplots(figsize=(18,10))\n",
    "dados_Analise_ML.groupby(['Pred_class']).Pred_class.count().sort_values().plot(kind='bar')"
   ]
  },
  {
   "cell_type": "markdown",
   "metadata": {},
   "source": [
    "#### De acordo com a figura anterior, qual o status das duas maiores classes preditivas do conjunto de dados?"
   ]
  },
  {
   "cell_type": "code",
   "execution_count": 11,
   "metadata": {},
   "outputs": [
    {
     "data": {
      "text/plain": [
       "<matplotlib.axes._subplots.AxesSubplot at 0x1df514f1880>"
      ]
     },
     "execution_count": 11,
     "metadata": {},
     "output_type": "execute_result"
    },
    {
     "data": {
      "image/png": "[encoded data removed]",
      "text/plain": [
       "<Figure size 432x288 with 1 Axes>"
      ]
     },
     "metadata": {
      "needs_background": "light"
     },
     "output_type": "display_data"
    }
   ],
   "source": [
    "classe3 = dados_Analise_ML[dados_Analise_ML[u'Pred_class']==3]\n",
    "classe3.groupby(['status']).status.count().sort_values().plot(kind='bar')"
   ]
  },
  {
   "cell_type": "code",
   "execution_count": 12,
   "metadata": {},
   "outputs": [
    {
     "data": {
      "text/plain": [
       "<matplotlib.axes._subplots.AxesSubplot at 0x1df51bca6a0>"
      ]
     },
     "execution_count": 12,
     "metadata": {},
     "output_type": "execute_result"
    },
    {
     "data": {
      "image/png": "[encoded data removed]",
      "text/plain": [
       "<Figure size 432x288 with 1 Axes>"
      ]
     },
     "metadata": {
      "needs_background": "light"
     },
     "output_type": "display_data"
    }
   ],
   "source": [
    "classe2 = dados_Analise_ML[dados_Analise_ML[u'Pred_class']==2]\n",
    "classe2.groupby(['status']).status.count().sort_values().plot(kind='bar')"
   ]
  },
  {
   "cell_type": "markdown",
   "metadata": {},
   "source": [
    "## Atividade 2: Crie um classificador que tenha como output se os dados com status igual a revision estão corretos ou não (Sugestão : Técnica de cross-validation K-fold);"
   ]
  },
  {
   "cell_type": "markdown",
   "metadata": {},
   "source": [
    "#### Define-se um vetor 'acertos' que guardará '1' e '0' como forma de indicar se o status está correto ou não."
   ]
  },
  {
   "cell_type": "code",
   "execution_count": 13,
   "metadata": {},
   "outputs": [
    {
     "data": {
      "text/html": [
       "<div>\n",
       "<style scoped>\n",
       "    .dataframe tbody tr th:only-of-type {\n",
       "        vertical-align: middle;\n",
       "    }\n",
       "\n",
       "    .dataframe tbody tr th {\n",
       "        vertical-align: top;\n",
       "    }\n",
       "\n",
       "    .dataframe thead th {\n",
       "        text-align: right;\n",
       "    }\n",
       "</style>\n",
       "<table border=\"1\" class=\"dataframe\">\n",
       "  <thead>\n",
       "    <tr style=\"text-align: right;\">\n",
       "      <th></th>\n",
       "      <th>Pred_class</th>\n",
       "      <th>probabilidade</th>\n",
       "      <th>status</th>\n",
       "      <th>True_class</th>\n",
       "      <th>acertos</th>\n",
       "    </tr>\n",
       "  </thead>\n",
       "  <tbody>\n",
       "    <tr>\n",
       "      <th>0</th>\n",
       "      <td>2</td>\n",
       "      <td>0.079892</td>\n",
       "      <td>1</td>\n",
       "      <td>0.0</td>\n",
       "      <td>0.0</td>\n",
       "    </tr>\n",
       "    <tr>\n",
       "      <th>1</th>\n",
       "      <td>2</td>\n",
       "      <td>0.379377</td>\n",
       "      <td>1</td>\n",
       "      <td>74.0</td>\n",
       "      <td>0.0</td>\n",
       "    </tr>\n",
       "    <tr>\n",
       "      <th>2</th>\n",
       "      <td>2</td>\n",
       "      <td>0.379377</td>\n",
       "      <td>1</td>\n",
       "      <td>74.0</td>\n",
       "      <td>0.0</td>\n",
       "    </tr>\n",
       "    <tr>\n",
       "      <th>3</th>\n",
       "      <td>2</td>\n",
       "      <td>0.420930</td>\n",
       "      <td>1</td>\n",
       "      <td>74.0</td>\n",
       "      <td>0.0</td>\n",
       "    </tr>\n",
       "    <tr>\n",
       "      <th>4</th>\n",
       "      <td>2</td>\n",
       "      <td>0.607437</td>\n",
       "      <td>1</td>\n",
       "      <td>2.0</td>\n",
       "      <td>1.0</td>\n",
       "    </tr>\n",
       "    <tr>\n",
       "      <th>...</th>\n",
       "      <td>...</td>\n",
       "      <td>...</td>\n",
       "      <td>...</td>\n",
       "      <td>...</td>\n",
       "      <td>...</td>\n",
       "    </tr>\n",
       "    <tr>\n",
       "      <th>638</th>\n",
       "      <td>60</td>\n",
       "      <td>0.543772</td>\n",
       "      <td>0</td>\n",
       "      <td>60.0</td>\n",
       "      <td>1.0</td>\n",
       "    </tr>\n",
       "    <tr>\n",
       "      <th>639</th>\n",
       "      <td>60</td>\n",
       "      <td>0.553846</td>\n",
       "      <td>0</td>\n",
       "      <td>60.0</td>\n",
       "      <td>1.0</td>\n",
       "    </tr>\n",
       "    <tr>\n",
       "      <th>640</th>\n",
       "      <td>77</td>\n",
       "      <td>0.606065</td>\n",
       "      <td>0</td>\n",
       "      <td>77.0</td>\n",
       "      <td>1.0</td>\n",
       "    </tr>\n",
       "    <tr>\n",
       "      <th>641</th>\n",
       "      <td>84</td>\n",
       "      <td>0.561842</td>\n",
       "      <td>0</td>\n",
       "      <td>84.0</td>\n",
       "      <td>1.0</td>\n",
       "    </tr>\n",
       "    <tr>\n",
       "      <th>642</th>\n",
       "      <td>96</td>\n",
       "      <td>0.340740</td>\n",
       "      <td>0</td>\n",
       "      <td>96.0</td>\n",
       "      <td>1.0</td>\n",
       "    </tr>\n",
       "  </tbody>\n",
       "</table>\n",
       "<p>643 rows × 5 columns</p>\n",
       "</div>"
      ],
      "text/plain": [
       "     Pred_class  probabilidade  status  True_class  acertos\n",
       "0             2       0.079892       1         0.0      0.0\n",
       "1             2       0.379377       1        74.0      0.0\n",
       "2             2       0.379377       1        74.0      0.0\n",
       "3             2       0.420930       1        74.0      0.0\n",
       "4             2       0.607437       1         2.0      1.0\n",
       "..          ...            ...     ...         ...      ...\n",
       "638          60       0.543772       0        60.0      1.0\n",
       "639          60       0.553846       0        60.0      1.0\n",
       "640          77       0.606065       0        77.0      1.0\n",
       "641          84       0.561842       0        84.0      1.0\n",
       "642          96       0.340740       0        96.0      1.0\n",
       "\n",
       "[643 rows x 5 columns]"
      ]
     },
     "execution_count": 13,
     "metadata": {},
     "output_type": "execute_result"
    }
   ],
   "source": [
    "import numpy as np\n",
    "\n",
    "acertos = np.zeros(len(dados_Analise_ML))\n",
    "\n",
    "for i in range (len(dados_Analise_ML)):\n",
    "    if(dados_Analise_ML.True_class[i] == dados_Analise_ML.Pred_class[i]):\n",
    "        acertos[i] = 1\n",
    "    i+=1\n",
    "\n",
    "dados_Analise_ML['acertos'] = acertos\n",
    "dados_Analise_ML"
   ]
  },
  {
   "cell_type": "markdown",
   "metadata": {},
   "source": [
    "#### Como seria o classificador a partir dos dados presentes nas colunas 'status', 'acertos' e 'probabilidade'?."
   ]
  },
  {
   "cell_type": "code",
   "execution_count": 14,
   "metadata": {},
   "outputs": [
    {
     "name": "stdout",
     "output_type": "stream",
     "text": [
      "                 Generalized Linear Model Regression Results                  \n",
      "==============================================================================\n",
      "Dep. Variable:                acertos   No. Observations:                  600\n",
      "Model:                            GLM   Df Residuals:                      597\n",
      "Model Family:                Binomial   Df Model:                            2\n",
      "Link Function:                  logit   Scale:                          1.0000\n",
      "Method:                          IRLS   Log-Likelihood:                -288.64\n",
      "Date:                Thu, 18 Feb 2021   Deviance:                       577.29\n",
      "Time:                        21:14:15   Pearson chi2:                     604.\n",
      "No. Iterations:                     5                                         \n",
      "Covariance Type:            nonrobust                                         \n",
      "=================================================================================\n",
      "                    coef    std err          z      P>|z|      [0.025      0.975]\n",
      "---------------------------------------------------------------------------------\n",
      "Intercept        -2.2016      0.293     -7.512      0.000      -2.776      -1.627\n",
      "True_class        0.0098      0.003      3.614      0.000       0.004       0.015\n",
      "probabilidade     4.4785      0.442     10.141      0.000       3.613       5.344\n",
      "=================================================================================\n"
     ]
    },
    {
     "name": "stderr",
     "output_type": "stream",
     "text": [
      "C:\\Users\\Danilo\\anaconda3\\lib\\site-packages\\pandas\\core\\indexing.py:671: SettingWithCopyWarning: \n",
      "A value is trying to be set on a copy of a slice from a DataFrame\n",
      "\n",
      "See the caveats in the documentation: https://pandas.pydata.org/pandas-docs/stable/user_guide/indexing.html#returning-a-view-versus-a-copy\n",
      "  self._setitem_with_indexer(indexer, value)\n"
     ]
    }
   ],
   "source": [
    "import pandas as pd\n",
    "import matplotlib.pyplot as plt\n",
    "import seaborn as sns\n",
    "%matplotlib inline\n",
    "\n",
    "import statsmodels.api as sm\n",
    "import statsmodels.formula.api as smf\n",
    "from sklearn.linear_model import LogisticRegression\n",
    "from sklearn.metrics import roc_auc_score, roc_curve, classification_report, accuracy_score, confusion_matrix, auc\n",
    "\n",
    "aux = dados_Analise_ML.query('status == 1')\n",
    "x = aux['True_class'].values # Conjunto treino\n",
    "y = aux['acertos'].values  # Conjunto treino\n",
    "z = aux['probabilidade'].values  # Conjunto treino\n",
    "\n",
    "aux.loc['True_class'] = aux['True_class'].astype('category')\n",
    "modelo = smf.glm(formula='acertos ~ True_class + probabilidade', data=aux, family = sm.families.Binomial()).fit()\n",
    "print(modelo.summary())"
   ]
  },
  {
   "cell_type": "markdown",
   "metadata": {},
   "source": [
    "#### Com a posse do modelo (mostrado abaixo), agora é possível determinar qual é a probabilidade (que será utilizada como uma \"zona de corte\") do modelo e, por fim, determinar outra probabilidade: a porcentagem dos dados com o status 'revision' que o modelo acertou.\n",
    "\n",
    "$$P(X_i) = \\frac{e^{-2.2016+0.0098True_{}class+4.4785probabilidade}}{1+e^{-2.2016+0.0098True_{}class+4.4785probabilidade}}$$"
   ]
  },
  {
   "cell_type": "markdown",
   "metadata": {},
   "source": [
    "## Atividade 3 + Atividade 4: Calcule o desempenho do modelo de classificação utilizando pelo menos três métricas e compare as três métricas de avaliação aplicadas ao modelo e descreva sobre a diferença;"
   ]
  },
  {
   "cell_type": "markdown",
   "metadata": {},
   "source": [
    "#### Anteriormente, encontramos dois modelos possíveis, a priori, ambos os modelos poderiam ser utilizados para a tarefa de classificação. Nessa etapa, trabalharemos como medir a acurácia do modelo em questão."
   ]
  },
  {
   "cell_type": "markdown",
   "metadata": {},
   "source": [
    "### a) P-value: Essa medida foi obtida no modelo gerado no modelo da atividade 2. Em resumo, obteve-se um valor tão próximo de 0 a ponto dos cálculos feito internamente no computador terem considerado como 0. Esse valor nos diz que por ele ser inferior a 0.05, então pode-se afirmar que o modelo tem um intervalo de 95% de confiança."
   ]
  },
  {
   "cell_type": "markdown",
   "metadata": {},
   "source": [
    "## Atividade 5: Crie um classificador, a partir da segunda aba - NLP do arquivo de dados, que permita identificar qual trecho de música corresponde às respectivas artistas listadas (Sugestão: Naive Bayes Classifier)."
   ]
  },
  {
   "cell_type": "code",
   "execution_count": 25,
   "metadata": {},
   "outputs": [
    {
     "data": {
      "text/html": [
       "<div>\n",
       "<style scoped>\n",
       "    .dataframe tbody tr th:only-of-type {\n",
       "        vertical-align: middle;\n",
       "    }\n",
       "\n",
       "    .dataframe tbody tr th {\n",
       "        vertical-align: top;\n",
       "    }\n",
       "\n",
       "    .dataframe thead th {\n",
       "        text-align: right;\n",
       "    }\n",
       "</style>\n",
       "<table border=\"1\" class=\"dataframe\">\n",
       "  <thead>\n",
       "    <tr style=\"text-align: right;\">\n",
       "      <th></th>\n",
       "      <th>letra</th>\n",
       "      <th>artista</th>\n",
       "    </tr>\n",
       "  </thead>\n",
       "  <tbody>\n",
       "    <tr>\n",
       "      <th>0</th>\n",
       "      <td>Jay-z Uh-uh-uh You ready b? Let's go get 'em. ...</td>\n",
       "      <td>Beyoncé</td>\n",
       "    </tr>\n",
       "    <tr>\n",
       "      <th>1</th>\n",
       "      <td>Your challengers are a young group from Housto...</td>\n",
       "      <td>Beyoncé</td>\n",
       "    </tr>\n",
       "    <tr>\n",
       "      <th>2</th>\n",
       "      <td>Dum-da-de-da Do, do, do, do, do, do (Coming do...</td>\n",
       "      <td>Beyoncé</td>\n",
       "    </tr>\n",
       "    <tr>\n",
       "      <th>3</th>\n",
       "      <td>If I ain't got nothing I got you If I ain't go...</td>\n",
       "      <td>Beyoncé</td>\n",
       "    </tr>\n",
       "    <tr>\n",
       "      <th>4</th>\n",
       "      <td>Six inch heels She walked in the club like nob...</td>\n",
       "      <td>Beyoncé</td>\n",
       "    </tr>\n",
       "    <tr>\n",
       "      <th>5</th>\n",
       "      <td>(hello) hello How are you (oh) I just got to s...</td>\n",
       "      <td>Beyoncé</td>\n",
       "    </tr>\n",
       "    <tr>\n",
       "      <th>6</th>\n",
       "      <td>Shoulders sideways, smack it, smack it in the ...</td>\n",
       "      <td>Beyoncé</td>\n",
       "    </tr>\n",
       "    <tr>\n",
       "      <th>7</th>\n",
       "      <td>Clap, clap, clap like you don't care  Ooh we b...</td>\n",
       "      <td>Beyoncé</td>\n",
       "    </tr>\n",
       "    <tr>\n",
       "      <th>8</th>\n",
       "      <td>Shoulders sideways, smack it, smack it in the ...</td>\n",
       "      <td>Beyoncé</td>\n",
       "    </tr>\n",
       "    <tr>\n",
       "      <th>9</th>\n",
       "      <td>Do you think You could fall for a woman like m...</td>\n",
       "      <td>Beyoncé</td>\n",
       "    </tr>\n",
       "  </tbody>\n",
       "</table>\n",
       "</div>"
      ],
      "text/plain": [
       "                                               letra  artista\n",
       "0  Jay-z Uh-uh-uh You ready b? Let's go get 'em. ...  Beyoncé\n",
       "1  Your challengers are a young group from Housto...  Beyoncé\n",
       "2  Dum-da-de-da Do, do, do, do, do, do (Coming do...  Beyoncé\n",
       "3  If I ain't got nothing I got you If I ain't go...  Beyoncé\n",
       "4  Six inch heels She walked in the club like nob...  Beyoncé\n",
       "5  (hello) hello How are you (oh) I just got to s...  Beyoncé\n",
       "6  Shoulders sideways, smack it, smack it in the ...  Beyoncé\n",
       "7  Clap, clap, clap like you don't care  Ooh we b...  Beyoncé\n",
       "8  Shoulders sideways, smack it, smack it in the ...  Beyoncé\n",
       "9  Do you think You could fall for a woman like m...  Beyoncé"
      ]
     },
     "execution_count": 25,
     "metadata": {},
     "output_type": "execute_result"
    }
   ],
   "source": [
    "from sklearn.naive_bayes import MultinomialNB\n",
    "from sklearn.feature_extraction.text import CountVectorizer\n",
    "from sklearn.model_selection import train_test_split\n",
    "\n",
    "dados_NLP = pd.read_excel(\"C:/Dataset_Desafio/teste_smarkio_lbs.xls\", 'NLP') \n",
    "dados_NLP.head(10) # Imprime as primeiras 10 linhas do dataset"
   ]
  },
  {
   "cell_type": "markdown",
   "metadata": {},
   "source": [
    "#### Qual a dimensão do dataset?"
   ]
  },
  {
   "cell_type": "code",
   "execution_count": 16,
   "metadata": {},
   "outputs": [
    {
     "data": {
      "text/plain": [
       "(518, 2)"
      ]
     },
     "execution_count": 16,
     "metadata": {},
     "output_type": "execute_result"
    }
   ],
   "source": [
    "dados_NLP.shape"
   ]
  },
  {
   "cell_type": "markdown",
   "metadata": {},
   "source": [
    "#### Quantas letras cada artista possui no dataset?"
   ]
  },
  {
   "cell_type": "code",
   "execution_count": 17,
   "metadata": {},
   "outputs": [
    {
     "data": {
      "text/plain": [
       "Beyoncé    274\n",
       "Rihanna    244\n",
       "Name: artista, dtype: int64"
      ]
     },
     "execution_count": 17,
     "metadata": {},
     "output_type": "execute_result"
    }
   ],
   "source": [
    "dados_NLP['artista'].value_counts()"
   ]
  },
  {
   "cell_type": "code",
   "execution_count": 19,
   "metadata": {},
   "outputs": [],
   "source": [
    "dados_NLP['letra'].replace('', np.nan, inplace=True)"
   ]
  },
  {
   "cell_type": "code",
   "execution_count": 20,
   "metadata": {},
   "outputs": [
    {
     "data": {
      "text/plain": [
       "array(['Beyoncé', 'Rihanna'], dtype=object)"
      ]
     },
     "execution_count": 20,
     "metadata": {},
     "output_type": "execute_result"
    }
   ],
   "source": [
    "dados_NLP = dados_NLP[['letra','artista']]\n",
    "dados_NLP .artista.unique()"
   ]
  },
  {
   "cell_type": "markdown",
   "metadata": {},
   "source": [
    "#### Cria-se um id para identificar cada artista"
   ]
  },
  {
   "cell_type": "code",
   "execution_count": 21,
   "metadata": {},
   "outputs": [
    {
     "data": {
      "text/html": [
       "<div>\n",
       "<style scoped>\n",
       "    .dataframe tbody tr th:only-of-type {\n",
       "        vertical-align: middle;\n",
       "    }\n",
       "\n",
       "    .dataframe tbody tr th {\n",
       "        vertical-align: top;\n",
       "    }\n",
       "\n",
       "    .dataframe thead th {\n",
       "        text-align: right;\n",
       "    }\n",
       "</style>\n",
       "<table border=\"1\" class=\"dataframe\">\n",
       "  <thead>\n",
       "    <tr style=\"text-align: right;\">\n",
       "      <th></th>\n",
       "      <th>letra</th>\n",
       "      <th>artista</th>\n",
       "      <th>id_letra</th>\n",
       "    </tr>\n",
       "  </thead>\n",
       "  <tbody>\n",
       "    <tr>\n",
       "      <th>0</th>\n",
       "      <td>Jay-z Uh-uh-uh You ready b? Let's go get 'em. ...</td>\n",
       "      <td>Beyoncé</td>\n",
       "      <td>1</td>\n",
       "    </tr>\n",
       "    <tr>\n",
       "      <th>1</th>\n",
       "      <td>Your challengers are a young group from Housto...</td>\n",
       "      <td>Beyoncé</td>\n",
       "      <td>1</td>\n",
       "    </tr>\n",
       "    <tr>\n",
       "      <th>2</th>\n",
       "      <td>Dum-da-de-da Do, do, do, do, do, do (Coming do...</td>\n",
       "      <td>Beyoncé</td>\n",
       "      <td>1</td>\n",
       "    </tr>\n",
       "    <tr>\n",
       "      <th>3</th>\n",
       "      <td>If I ain't got nothing I got you If I ain't go...</td>\n",
       "      <td>Beyoncé</td>\n",
       "      <td>1</td>\n",
       "    </tr>\n",
       "    <tr>\n",
       "      <th>4</th>\n",
       "      <td>Six inch heels She walked in the club like nob...</td>\n",
       "      <td>Beyoncé</td>\n",
       "      <td>1</td>\n",
       "    </tr>\n",
       "    <tr>\n",
       "      <th>...</th>\n",
       "      <td>...</td>\n",
       "      <td>...</td>\n",
       "      <td>...</td>\n",
       "    </tr>\n",
       "    <tr>\n",
       "      <th>513</th>\n",
       "      <td>Yeah yeah Yeah yeah  I ain't trying to think a...</td>\n",
       "      <td>Rihanna</td>\n",
       "      <td>0</td>\n",
       "    </tr>\n",
       "    <tr>\n",
       "      <th>514</th>\n",
       "      <td>You the one that I dream about all day You the...</td>\n",
       "      <td>Rihanna</td>\n",
       "      <td>0</td>\n",
       "    </tr>\n",
       "    <tr>\n",
       "      <th>515</th>\n",
       "      <td>No, no, no You don't love me and I know now No...</td>\n",
       "      <td>Rihanna</td>\n",
       "      <td>0</td>\n",
       "    </tr>\n",
       "    <tr>\n",
       "      <th>516</th>\n",
       "      <td>You should be mine Oh baby, oh baby, oh baby, ...</td>\n",
       "      <td>Rihanna</td>\n",
       "      <td>0</td>\n",
       "    </tr>\n",
       "    <tr>\n",
       "      <th>517</th>\n",
       "      <td>[Rihanna] I remember when the world was just m...</td>\n",
       "      <td>Rihanna</td>\n",
       "      <td>0</td>\n",
       "    </tr>\n",
       "  </tbody>\n",
       "</table>\n",
       "<p>518 rows × 3 columns</p>\n",
       "</div>"
      ],
      "text/plain": [
       "                                                 letra  artista  id_letra\n",
       "0    Jay-z Uh-uh-uh You ready b? Let's go get 'em. ...  Beyoncé         1\n",
       "1    Your challengers are a young group from Housto...  Beyoncé         1\n",
       "2    Dum-da-de-da Do, do, do, do, do, do (Coming do...  Beyoncé         1\n",
       "3    If I ain't got nothing I got you If I ain't go...  Beyoncé         1\n",
       "4    Six inch heels She walked in the club like nob...  Beyoncé         1\n",
       "..                                                 ...      ...       ...\n",
       "513  Yeah yeah Yeah yeah  I ain't trying to think a...  Rihanna         0\n",
       "514  You the one that I dream about all day You the...  Rihanna         0\n",
       "515  No, no, no You don't love me and I know now No...  Rihanna         0\n",
       "516  You should be mine Oh baby, oh baby, oh baby, ...  Rihanna         0\n",
       "517  [Rihanna] I remember when the world was just m...  Rihanna         0\n",
       "\n",
       "[518 rows x 3 columns]"
      ]
     },
     "execution_count": 21,
     "metadata": {},
     "output_type": "execute_result"
    }
   ],
   "source": [
    "dados_NLP['id_letra']=dados_NLP.artista.map({'Beyoncé':1,'Rihanna':0})\n",
    "dados_NLP\n"
   ]
  },
  {
   "cell_type": "markdown",
   "metadata": {},
   "source": [
    "#### Define-se o conjunto de treino e teste"
   ]
  },
  {
   "cell_type": "code",
   "execution_count": 22,
   "metadata": {},
   "outputs": [],
   "source": [
    "x_treino, x_teste, y_treino, y_teste = train_test_split(dados_NLP.letra, dados_NLP.id_letra, random_state=0)\n",
    "\n",
    "vect = CountVectorizer(ngram_range=(2,2))\n",
    "\n",
    "X_treino = vect.fit_transform(x_treino)\n",
    "\n",
    "X_teste = vect.transform(x_teste)\n"
   ]
  },
  {
   "cell_type": "code",
   "execution_count": 23,
   "metadata": {},
   "outputs": [
    {
     "name": "stdout",
     "output_type": "stream",
     "text": [
      "[1 1 1 0 1 1 1 0 1 1 1 0 1 0 0 1 0 1 1 0 1 1 1 0 0 0 1 0 0 0 1 0 0 1 0 1 1\n",
      " 1 0 0 0 0 1 0 0 1 1 0 0 1 0 0 1 0 0 1 1 1 0 1 0 0 1 0 0 1 1 1 1 0 1 1 0 0\n",
      " 0 0 0 1 0 0 0 1 0 1 0 0 1 1 0 0 1 1 1 1 0 1 0 0 1 1 0 1 0 1 0 1 1 1 1 1 0\n",
      " 1 1 1 1 0 0 0 0 1 0 1 0 1 1 1 0 1 0 0]\n"
     ]
    }
   ],
   "source": [
    "classificador = MultinomialNB(alpha =0.2)\n",
    "classificador.fit(X_treino,y_treino)\n",
    "\n",
    "resultado = classificador.predict(X_teste)\n",
    "print(resultado)"
   ]
  },
  {
   "cell_type": "code",
   "execution_count": 24,
   "metadata": {},
   "outputs": [
    {
     "data": {
      "text/plain": [
       "0.7461538461538462"
      ]
     },
     "execution_count": 24,
     "metadata": {},
     "output_type": "execute_result"
    }
   ],
   "source": [
    "accuracy_score(resultado,y_teste) # Acurácia do modelo"
   ]
  },
  {
   "cell_type": "markdown",
   "metadata": {},
   "source": [
    "#### Possível melhoria futura: Tendo em vista que o modelo está pronto, uma funcionalidade de testar trechos de música para identificar se eram da artista Beyoncé ou Rihanna poderia ser adicionada."
   ]
  }
 ],
 "metadata": {
  "kernelspec": {
   "display_name": "Python 3",
   "language": "python",
   "name": "python3"
  },
  "language_info": {
   "codemirror_mode": {
    "name": "ipython",
    "version": 3
   },
   "file_extension": ".py",
   "mimetype": "text/x-python",
   "name": "python",
   "nbconvert_exporter": "python",
   "pygments_lexer": "ipython3",
   "version": "3.8.3"
  }
 },
 "nbformat": 4,
 "nbformat_minor": 4
}
